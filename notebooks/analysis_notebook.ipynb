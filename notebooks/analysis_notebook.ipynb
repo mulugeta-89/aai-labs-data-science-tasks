{
 "cells": [
  {
   "cell_type": "code",
   "execution_count": 17,
   "metadata": {},
   "outputs": [
    {
     "name": "stdout",
     "output_type": "stream",
     "text": [
      "                    0\n",
      "Libya       13.683882\n",
      "Guyana      11.948329\n",
      "Ireland      8.195606\n",
      "Ethiopia     8.021842\n",
      "Bangladesh   7.595905\n",
      "Moldova      7.537589\n",
      "Vietnam      7.432745\n",
      "Cambodia     6.521228\n",
      "China        6.502886\n",
      "Guinea       6.482519\n"
     ]
    }
   ],
   "source": [
    "''' \n",
    "    This cell is prepared to provide solution to the first question of the practical task\n",
    "    \n",
    "    Question 1: Find top 10 countries that grew \"Gross domestic product per capita\" the most over the last decade\n",
    "'''\n",
    "\n",
    "# Import pandas library\n",
    "import pandas as pd\n",
    "\n",
    "# Load the data\n",
    "df = pd.read_excel(\"../data/dataset.xlsx\")\n",
    "\n",
    "# Storing every country name\n",
    "countries = df[\"Country\"].unique()\n",
    "growth_rates = {}\n",
    "average_growth_rates = {}\n",
    "start_year = 2014\n",
    "end_year = 2024\n",
    "\n",
    "# Calculating the growth rate of every country year by year for last decade\n",
    "for country in countries:\n",
    "    # Skip calculation for Lebanon\n",
    "    if country == \"Lebanon\":\n",
    "        continue\n",
    "    else:\n",
    "        # Extract rows related to PPPPC for the current country\n",
    "        pppc_row = df.loc[(df[\"WEO Subject Code\"] == \"PPPPC\") & (df[\"Country\"] == country)]\n",
    "        # Extract columns for the specified years\n",
    "        last_decade = pppc_row.loc[:, start_year:end_year]\n",
    "        # Calculate growth rate year by year and calculate the percentage\n",
    "        growth_rate = ((last_decade.iloc[:, 1:].values - last_decade.iloc[:, :-1].values) / last_decade.iloc[:, :-1].values) * 100\n",
    "        # Store growth rates for the country for the last decade\n",
    "        growth_rates[country] = growth_rate\n",
    "\n",
    "# Calculate average growth rates for each country\n",
    "for country, growth_rate in growth_rates.items():\n",
    "    # Calculating mean for the growth rates of the last decade\n",
    "    average_growth_rate = growth_rate.mean(axis=1)\n",
    "    # Storing the calculated mean to the dictionary\n",
    "    average_growth_rates[country] = average_growth_rate\n",
    "\n",
    "# Convert average growth rates to DataFrame\n",
    "average_growth_rates_df = pd.DataFrame(average_growth_rates)\n",
    "\n",
    "# Sort countries by their growth rates and get the top 10\n",
    "top_10_countries = average_growth_rates_df.T.sort_values(by=0, ascending=False).head(10)\n",
    "\n",
    "print(top_10_countries)\n"
   ]
  },
  {
   "cell_type": "markdown",
   "metadata": {},
   "source": []
  },
  {
   "cell_type": "markdown",
   "metadata": {},
   "source": []
  },
  {
   "cell_type": "code",
   "execution_count": null,
   "metadata": {},
   "outputs": [],
   "source": []
  },
  {
   "cell_type": "code",
   "execution_count": null,
   "metadata": {},
   "outputs": [],
   "source": []
  },
  {
   "cell_type": "code",
   "execution_count": null,
   "metadata": {},
   "outputs": [],
   "source": []
  }
 ],
 "metadata": {
  "kernelspec": {
   "display_name": "Python 3 (ipykernel)",
   "language": "python",
   "name": "python3"
  },
  "language_info": {
   "codemirror_mode": {
    "name": "ipython",
    "version": 3
   },
   "file_extension": ".py",
   "mimetype": "text/x-python",
   "name": "python",
   "nbconvert_exporter": "python",
   "pygments_lexer": "ipython3",
   "version": "3.11.2"
  }
 },
 "nbformat": 4,
 "nbformat_minor": 4
}
